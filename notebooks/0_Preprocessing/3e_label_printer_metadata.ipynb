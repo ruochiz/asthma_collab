{
 "cells": [
  {
   "cell_type": "markdown",
   "metadata": {},
   "source": [
    "# Add metadata column indicating Prescott 2020 subtype"
   ]
  },
  {
   "cell_type": "markdown",
   "metadata": {},
   "source": [
    "## 0. Imports"
   ]
  },
  {
   "cell_type": "code",
   "execution_count": 1,
   "metadata": {},
   "outputs": [],
   "source": [
    "%load_ext autoreload\n",
    "%autoreload 2\n",
    "import scprinter as scp\n",
    "import pandas as pd\n",
    "import seaborn as sns\n",
    "import matplotlib.pyplot as plt\n",
    "import time\n",
    "import pandas as pd\n",
    "import numpy as np\n",
    "import os\n",
    "import pickle\n",
    "import torch\n",
    "import matplotlib as mpl\n",
    "mpl.rcParams['pdf.fonttype'] = 42\n",
    "from scanpy.plotting.palettes import zeileis_28\n",
    "from tqdm.contrib.concurrent import *\n",
    "from tqdm.auto import *\n",
    "import anndata\n",
    "import scanpy as sc\n",
    "import statistics as stat\n",
    "import json\n",
    "import csv\n",
    "import re\n",
    "import copy\n",
    "from sklearn.preprocessing import OneHotEncoder"
   ]
  },
  {
   "cell_type": "code",
   "execution_count": 2,
   "metadata": {},
   "outputs": [],
   "source": [
    "import snapatac2 as snap"
   ]
  },
  {
   "cell_type": "code",
   "execution_count": 3,
   "metadata": {},
   "outputs": [
    {
     "data": {
      "text/plain": [
       "'1.0.0a'"
      ]
     },
     "execution_count": 3,
     "metadata": {},
     "output_type": "execute_result"
    }
   ],
   "source": [
    "scp.__version__"
   ]
  },
  {
   "cell_type": "markdown",
   "metadata": {},
   "source": [
    "### 0.1 Setup"
   ]
  },
  {
   "cell_type": "code",
   "execution_count": 4,
   "metadata": {},
   "outputs": [
    {
     "data": {
      "text/plain": [
       "<scprinter.genome.Genome at 0x7ff96d977590>"
      ]
     },
     "execution_count": 4,
     "metadata": {},
     "output_type": "execute_result"
    }
   ],
   "source": [
    "# Specify the reference genome. This must match that of your ATAC fragments file\n",
    "genome = scp.genome.mm10\n",
    "\n",
    "genome"
   ]
  },
  {
   "cell_type": "code",
   "execution_count": 5,
   "metadata": {},
   "outputs": [],
   "source": [
    "import snapatac2 as snap"
   ]
  },
  {
   "cell_type": "code",
   "execution_count": 6,
   "metadata": {},
   "outputs": [
    {
     "data": {
      "text/plain": [
       "'1.0.0a'"
      ]
     },
     "execution_count": 6,
     "metadata": {},
     "output_type": "execute_result"
    }
   ],
   "source": [
    "scp.__version__"
   ]
  },
  {
   "cell_type": "code",
   "execution_count": 7,
   "metadata": {},
   "outputs": [],
   "source": [
    "chromVAR_or_seq2PRINT = 'chromvar'"
   ]
  },
  {
   "cell_type": "markdown",
   "metadata": {},
   "source": [
    "## 1. Paths"
   ]
  },
  {
   "cell_type": "markdown",
   "metadata": {},
   "source": [
    "### 1.1 Data directories"
   ]
  },
  {
   "cell_type": "code",
   "execution_count": 8,
   "metadata": {},
   "outputs": [],
   "source": [
    "master_data_dir = '/bap/bap/collab_asthma_multiome/'"
   ]
  },
  {
   "cell_type": "code",
   "execution_count": 9,
   "metadata": {},
   "outputs": [],
   "source": [
    "# inputs\n",
    "printer_h5ad_output_dir = os.path.join(master_data_dir, 'ATAC', '2_Analysis_Outputs', '1b_ChromVAR_scPrinter_object')\n",
    "scprinter_obj_path = os.path.join(printer_h5ad_output_dir, 'Asthma_Multiome_Collab_scPrinter.h5ad')\n",
    "barcode_subtype_mapping_csv_file_path = os.path.join(master_data_dir, 'outputs', 'ATAC', '2_Analysis_Outputs', '1a_ChromVAR_Inputs', 'sample_barcode_predicted_cluster_df.csv')\n",
    "\n",
    "\n",
    "output_dir = os.path.join(master_data_dir, 'ATAC', '2_Analysis_Outputs', f'1d_{chromVAR_or_seq2PRINT}_Outputs')\n",
    "\n",
    "# if the output directory does not exist, create it\n",
    "if not os.path.exists(output_dir):\n",
    "    os.makedirs(output_dir)"
   ]
  },
  {
   "cell_type": "code",
   "execution_count": 10,
   "metadata": {},
   "outputs": [
    {
     "data": {
      "text/plain": [
       "'/bap/bap/collab_asthma_multiome/ATAC/2_Analysis_Outputs/1d_chromvar_Outputs'"
      ]
     },
     "execution_count": 10,
     "metadata": {},
     "output_type": "execute_result"
    }
   ],
   "source": [
    "output_dir"
   ]
  },
  {
   "cell_type": "markdown",
   "metadata": {},
   "source": [
    "## 2. ```scPrinter``` analysis"
   ]
  },
  {
   "cell_type": "markdown",
   "metadata": {},
   "source": [
    "### 2.1 Load the scPrinter object\n",
    "\n",
    "When you finish using the object, run ```printer.close()``` otherwise you won't be able to load it properly next time."
   ]
  },
  {
   "cell_type": "code",
   "execution_count": 11,
   "metadata": {},
   "outputs": [],
   "source": [
    "printer = scp.load_printer(scprinter_obj_path, genome)"
   ]
  },
  {
   "cell_type": "code",
   "execution_count": 12,
   "metadata": {},
   "outputs": [
    {
     "name": "stdout",
     "output_type": "stream",
     "text": [
      "head project\n",
      "AnnData object with n_obs x n_vars = 7418 x 0 backed at '/bap/bap/collab_asthma_multiome/ATAC/2_Analysis_Outputs/1b_ChromVAR_scPrinter_object/Asthma_Multiome_Collab_scPrinter.h5ad'\n",
      "    obs: 'sample', 'n_fragment', 'frac_dup', 'frac_mito', 'frag_path', 'frag_sample_name', 'tsse'\n",
      "    uns: 'binding score', 'bias_path', 'gff_db', 'genome', 'bias_bw', 'insertion', 'peak_calling', 'footprints', 'reference_sequences', 'unique_string'\n",
      "    obsm: 'insertion_chr16', 'insertion_chr14', 'insertion_chr4', 'insertion_chrY', 'insertion_chr10', 'insertion_chr13', 'insertion_chrX', 'insertion_chr3', 'insertion_chr2', 'insertion_chr9', 'insertion_chr15', 'insertion_chr11', 'insertion_chr17', 'insertion_chr1', 'insertion_chr5', 'insertion_chr6', 'insertion_chr12', 'insertion_chr19', 'insertion_chr18', 'insertion_chr7', 'insertion_chr8'\n"
     ]
    },
    {
     "data": {
      "text/plain": []
     },
     "execution_count": 12,
     "metadata": {},
     "output_type": "execute_result"
    }
   ],
   "source": [
    "printer"
   ]
  },
  {
   "cell_type": "code",
   "execution_count": 13,
   "metadata": {},
   "outputs": [
    {
     "name": "stderr",
     "output_type": "stream",
     "text": [
      "/tmp/ipykernel_1641579/3578440420.py:1: DeprecationWarning: `Series._import_from_c` is deprecated. use _import_arrow_from_c; if you are using an extension, please compile it with latest 'pyo3-polars'\n",
      "  printer.obs[:]\n"
     ]
    },
    {
     "data": {
      "text/html": [
       "<div><style>\n",
       ".dataframe > thead > tr,\n",
       ".dataframe > tbody > tr {\n",
       "  text-align: right;\n",
       "  white-space: pre-wrap;\n",
       "}\n",
       "</style>\n",
       "<small>shape: (7_418, 7)</small><table border=\"1\" class=\"dataframe\"><thead><tr><th>sample</th><th>n_fragment</th><th>frac_dup</th><th>frac_mito</th><th>frag_path</th><th>frag_sample_name</th><th>tsse</th></tr><tr><td>str</td><td>u64</td><td>f64</td><td>f64</td><td>str</td><td>str</td><td>f64</td></tr></thead><tbody><tr><td>&quot;NT&quot;</td><td>12836</td><td>0.309558</td><td>0.0</td><td>&quot;/bap/bap/collab_asthma_multiom…</td><td>&quot;NT&quot;</td><td>18.232891</td></tr><tr><td>&quot;NT&quot;</td><td>27125</td><td>0.34161</td><td>0.0</td><td>&quot;/bap/bap/collab_asthma_multiom…</td><td>&quot;NT&quot;</td><td>12.819292</td></tr><tr><td>&quot;NT&quot;</td><td>13429</td><td>0.326901</td><td>0.0</td><td>&quot;/bap/bap/collab_asthma_multiom…</td><td>&quot;NT&quot;</td><td>18.673219</td></tr><tr><td>&quot;NT&quot;</td><td>538</td><td>0.317259</td><td>0.0</td><td>&quot;/bap/bap/collab_asthma_multiom…</td><td>&quot;NT&quot;</td><td>3.636364</td></tr><tr><td>&quot;NT&quot;</td><td>80889</td><td>0.338385</td><td>0.0</td><td>&quot;/bap/bap/collab_asthma_multiom…</td><td>&quot;NT&quot;</td><td>12.59537</td></tr><tr><td>&hellip;</td><td>&hellip;</td><td>&hellip;</td><td>&hellip;</td><td>&hellip;</td><td>&hellip;</td><td>&hellip;</td></tr><tr><td>&quot;PBS&quot;</td><td>19617</td><td>0.322383</td><td>0.0</td><td>&quot;/bap/bap/collab_asthma_multiom…</td><td>&quot;PBS&quot;</td><td>12.753124</td></tr><tr><td>&quot;PBS&quot;</td><td>65500</td><td>0.317872</td><td>0.0</td><td>&quot;/bap/bap/collab_asthma_multiom…</td><td>&quot;PBS&quot;</td><td>14.318</td></tr><tr><td>&quot;PBS&quot;</td><td>40833</td><td>0.314779</td><td>0.0</td><td>&quot;/bap/bap/collab_asthma_multiom…</td><td>&quot;PBS&quot;</td><td>15.953079</td></tr><tr><td>&quot;PBS&quot;</td><td>35084</td><td>0.317007</td><td>0.0</td><td>&quot;/bap/bap/collab_asthma_multiom…</td><td>&quot;PBS&quot;</td><td>11.588141</td></tr><tr><td>&quot;PBS&quot;</td><td>114206</td><td>0.314996</td><td>0.0</td><td>&quot;/bap/bap/collab_asthma_multiom…</td><td>&quot;PBS&quot;</td><td>9.656046</td></tr></tbody></table></div>"
      ],
      "text/plain": [
       "shape: (7_418, 7)\n",
       "┌────────┬────────────┬──────────┬───────────┬──────────────────────┬──────────────────┬───────────┐\n",
       "│ sample ┆ n_fragment ┆ frac_dup ┆ frac_mito ┆ frag_path            ┆ frag_sample_name ┆ tsse      │\n",
       "│ ---    ┆ ---        ┆ ---      ┆ ---       ┆ ---                  ┆ ---              ┆ ---       │\n",
       "│ str    ┆ u64        ┆ f64      ┆ f64       ┆ str                  ┆ str              ┆ f64       │\n",
       "╞════════╪════════════╪══════════╪═══════════╪══════════════════════╪══════════════════╪═══════════╡\n",
       "│ NT     ┆ 12836      ┆ 0.309558 ┆ 0.0       ┆ /bap/bap/collab_asth ┆ NT               ┆ 18.232891 │\n",
       "│        ┆            ┆          ┆           ┆ ma_multiom…          ┆                  ┆           │\n",
       "│ NT     ┆ 27125      ┆ 0.34161  ┆ 0.0       ┆ /bap/bap/collab_asth ┆ NT               ┆ 12.819292 │\n",
       "│        ┆            ┆          ┆           ┆ ma_multiom…          ┆                  ┆           │\n",
       "│ NT     ┆ 13429      ┆ 0.326901 ┆ 0.0       ┆ /bap/bap/collab_asth ┆ NT               ┆ 18.673219 │\n",
       "│        ┆            ┆          ┆           ┆ ma_multiom…          ┆                  ┆           │\n",
       "│ NT     ┆ 538        ┆ 0.317259 ┆ 0.0       ┆ /bap/bap/collab_asth ┆ NT               ┆ 3.636364  │\n",
       "│        ┆            ┆          ┆           ┆ ma_multiom…          ┆                  ┆           │\n",
       "│ NT     ┆ 80889      ┆ 0.338385 ┆ 0.0       ┆ /bap/bap/collab_asth ┆ NT               ┆ 12.59537  │\n",
       "│        ┆            ┆          ┆           ┆ ma_multiom…          ┆                  ┆           │\n",
       "│ …      ┆ …          ┆ …        ┆ …         ┆ …                    ┆ …                ┆ …         │\n",
       "│ PBS    ┆ 19617      ┆ 0.322383 ┆ 0.0       ┆ /bap/bap/collab_asth ┆ PBS              ┆ 12.753124 │\n",
       "│        ┆            ┆          ┆           ┆ ma_multiom…          ┆                  ┆           │\n",
       "│ PBS    ┆ 65500      ┆ 0.317872 ┆ 0.0       ┆ /bap/bap/collab_asth ┆ PBS              ┆ 14.318    │\n",
       "│        ┆            ┆          ┆           ┆ ma_multiom…          ┆                  ┆           │\n",
       "│ PBS    ┆ 40833      ┆ 0.314779 ┆ 0.0       ┆ /bap/bap/collab_asth ┆ PBS              ┆ 15.953079 │\n",
       "│        ┆            ┆          ┆           ┆ ma_multiom…          ┆                  ┆           │\n",
       "│ PBS    ┆ 35084      ┆ 0.317007 ┆ 0.0       ┆ /bap/bap/collab_asth ┆ PBS              ┆ 11.588141 │\n",
       "│        ┆            ┆          ┆           ┆ ma_multiom…          ┆                  ┆           │\n",
       "│ PBS    ┆ 114206     ┆ 0.314996 ┆ 0.0       ┆ /bap/bap/collab_asth ┆ PBS              ┆ 9.656046  │\n",
       "│        ┆            ┆          ┆           ┆ ma_multiom…          ┆                  ┆           │\n",
       "└────────┴────────────┴──────────┴───────────┴──────────────────────┴──────────────────┴───────────┘"
      ]
     },
     "execution_count": 13,
     "metadata": {},
     "output_type": "execute_result"
    }
   ],
   "source": [
    "printer.obs[:]"
   ]
  },
  {
   "cell_type": "code",
   "execution_count": 14,
   "metadata": {},
   "outputs": [
    {
     "name": "stdout",
     "output_type": "stream",
     "text": [
      "['NT_AAACAGCCAGTTTCTC-1', 'NT_AAACGGATCAATAGCC-1', 'NT_AAACGGATCCTAATGA-1', 'NT_AAACGTACAAAGCCTC-1', 'NT_AAACGTACATGTGGGA-1', 'NT_AAAGCAAGTTAGGTGC-1', 'NT_AAAGGCTCAATAGTCT-1', 'NT_AAAGGCTCAGAAATTG-1', 'NT_AAAGGTTAGTCAATTG-1', 'NT_AAATCCGGTGAGCGAA-1']\n",
      "7418\n"
     ]
    }
   ],
   "source": [
    "print(printer.obs_names[:10])\n",
    "print(len(printer.obs_names))"
   ]
  },
  {
   "cell_type": "markdown",
   "metadata": {},
   "source": [
    "### 2.2 Load the barcode:subtype mapping metadata"
   ]
  },
  {
   "cell_type": "code",
   "execution_count": 15,
   "metadata": {},
   "outputs": [
    {
     "data": {
      "text/html": [
       "<div>\n",
       "<style scoped>\n",
       "    .dataframe tbody tr th:only-of-type {\n",
       "        vertical-align: middle;\n",
       "    }\n",
       "\n",
       "    .dataframe tbody tr th {\n",
       "        vertical-align: top;\n",
       "    }\n",
       "\n",
       "    .dataframe thead th {\n",
       "        text-align: right;\n",
       "    }\n",
       "</style>\n",
       "<table border=\"1\" class=\"dataframe\">\n",
       "  <thead>\n",
       "    <tr style=\"text-align: right;\">\n",
       "      <th></th>\n",
       "      <th>Barcode</th>\n",
       "      <th>Cluster</th>\n",
       "    </tr>\n",
       "  </thead>\n",
       "  <tbody>\n",
       "    <tr>\n",
       "      <th>0</th>\n",
       "      <td>NT_AAACAGCCAGTTTCTC-1</td>\n",
       "      <td>NG4</td>\n",
       "    </tr>\n",
       "    <tr>\n",
       "      <th>1</th>\n",
       "      <td>NT_AAACGGATCAATAGCC-1</td>\n",
       "      <td>JG6</td>\n",
       "    </tr>\n",
       "    <tr>\n",
       "      <th>2</th>\n",
       "      <td>NT_AAACGGATCCTAATGA-1</td>\n",
       "      <td>JG1</td>\n",
       "    </tr>\n",
       "    <tr>\n",
       "      <th>3</th>\n",
       "      <td>NT_AAACGTACAAAGCCTC-1</td>\n",
       "      <td>NG5</td>\n",
       "    </tr>\n",
       "    <tr>\n",
       "      <th>4</th>\n",
       "      <td>NT_AAACGTACATGTGGGA-1</td>\n",
       "      <td>JG1</td>\n",
       "    </tr>\n",
       "    <tr>\n",
       "      <th>...</th>\n",
       "      <td>...</td>\n",
       "      <td>...</td>\n",
       "    </tr>\n",
       "    <tr>\n",
       "      <th>7413</th>\n",
       "      <td>OVA_C_TTTGGTGCATTATCCC-1</td>\n",
       "      <td>JG4</td>\n",
       "    </tr>\n",
       "    <tr>\n",
       "      <th>7414</th>\n",
       "      <td>OVA_C_TTTGTGAAGTTATGTG-1</td>\n",
       "      <td>JG5</td>\n",
       "    </tr>\n",
       "    <tr>\n",
       "      <th>7415</th>\n",
       "      <td>OVA_C_TTTGTGGCAGAATGAC-1</td>\n",
       "      <td>JG1</td>\n",
       "    </tr>\n",
       "    <tr>\n",
       "      <th>7416</th>\n",
       "      <td>OVA_C_TTTGTGGCAGGTTACC-1</td>\n",
       "      <td>NG20</td>\n",
       "    </tr>\n",
       "    <tr>\n",
       "      <th>7417</th>\n",
       "      <td>OVA_C_TTTGTTGGTTTAACCC-1</td>\n",
       "      <td>JG1</td>\n",
       "    </tr>\n",
       "  </tbody>\n",
       "</table>\n",
       "<p>7418 rows × 2 columns</p>\n",
       "</div>"
      ],
      "text/plain": [
       "                       Barcode Cluster\n",
       "0        NT_AAACAGCCAGTTTCTC-1     NG4\n",
       "1        NT_AAACGGATCAATAGCC-1     JG6\n",
       "2        NT_AAACGGATCCTAATGA-1     JG1\n",
       "3        NT_AAACGTACAAAGCCTC-1     NG5\n",
       "4        NT_AAACGTACATGTGGGA-1     JG1\n",
       "...                        ...     ...\n",
       "7413  OVA_C_TTTGGTGCATTATCCC-1     JG4\n",
       "7414  OVA_C_TTTGTGAAGTTATGTG-1     JG5\n",
       "7415  OVA_C_TTTGTGGCAGAATGAC-1     JG1\n",
       "7416  OVA_C_TTTGTGGCAGGTTACC-1    NG20\n",
       "7417  OVA_C_TTTGTTGGTTTAACCC-1     JG1\n",
       "\n",
       "[7418 rows x 2 columns]"
      ]
     },
     "execution_count": 15,
     "metadata": {},
     "output_type": "execute_result"
    }
   ],
   "source": [
    "# Read csv yes header\n",
    "\n",
    "barcode_subtype_mapping_df = pd.read_csv(barcode_subtype_mapping_csv_file_path, header=0)\n",
    "\n",
    "barcode_subtype_mapping_df"
   ]
  },
  {
   "cell_type": "code",
   "execution_count": 16,
   "metadata": {},
   "outputs": [
    {
     "data": {
      "text/plain": [
       "list"
      ]
     },
     "execution_count": 16,
     "metadata": {},
     "output_type": "execute_result"
    }
   ],
   "source": [
    "type(printer.obs_names)"
   ]
  },
  {
   "cell_type": "code",
   "execution_count": 17,
   "metadata": {},
   "outputs": [
    {
     "data": {
      "text/plain": [
       "True"
      ]
     },
     "execution_count": 17,
     "metadata": {},
     "output_type": "execute_result"
    }
   ],
   "source": [
    "# Map the list of barcodes \"printer.obs_names\" to \"Cluster\" in the barcode_subtype_mapping_df, but must match by \"Barcode\" column in barcode_subtype_mapping_df\n",
    "\n",
    "# First, verify that all barcodes in printer.obs_names are present in the barcode_subtype_mapping_df[\"Barcode\"] column\n",
    "# check set equality\n",
    "\n",
    "set(printer.obs_names) == set(barcode_subtype_mapping_df['Barcode'])"
   ]
  },
  {
   "cell_type": "code",
   "execution_count": 18,
   "metadata": {},
   "outputs": [
    {
     "data": {
      "text/html": [
       "<div>\n",
       "<style scoped>\n",
       "    .dataframe tbody tr th:only-of-type {\n",
       "        vertical-align: middle;\n",
       "    }\n",
       "\n",
       "    .dataframe tbody tr th {\n",
       "        vertical-align: top;\n",
       "    }\n",
       "\n",
       "    .dataframe thead th {\n",
       "        text-align: right;\n",
       "    }\n",
       "</style>\n",
       "<table border=\"1\" class=\"dataframe\">\n",
       "  <thead>\n",
       "    <tr style=\"text-align: right;\">\n",
       "      <th></th>\n",
       "      <th>Barcode</th>\n",
       "      <th>Cluster</th>\n",
       "    </tr>\n",
       "  </thead>\n",
       "  <tbody>\n",
       "    <tr>\n",
       "      <th>0</th>\n",
       "      <td>NT_AAACAGCCAGTTTCTC-1</td>\n",
       "      <td>NG4</td>\n",
       "    </tr>\n",
       "    <tr>\n",
       "      <th>1</th>\n",
       "      <td>NT_AAACGGATCAATAGCC-1</td>\n",
       "      <td>JG6</td>\n",
       "    </tr>\n",
       "    <tr>\n",
       "      <th>2</th>\n",
       "      <td>NT_AAACGGATCCTAATGA-1</td>\n",
       "      <td>JG1</td>\n",
       "    </tr>\n",
       "    <tr>\n",
       "      <th>3</th>\n",
       "      <td>NT_AAACGTACAAAGCCTC-1</td>\n",
       "      <td>NG5</td>\n",
       "    </tr>\n",
       "    <tr>\n",
       "      <th>4</th>\n",
       "      <td>NT_AAACGTACATGTGGGA-1</td>\n",
       "      <td>JG1</td>\n",
       "    </tr>\n",
       "    <tr>\n",
       "      <th>...</th>\n",
       "      <td>...</td>\n",
       "      <td>...</td>\n",
       "    </tr>\n",
       "    <tr>\n",
       "      <th>7413</th>\n",
       "      <td>PBS_TTTGTGGCAATAAGCA-1</td>\n",
       "      <td>JG4</td>\n",
       "    </tr>\n",
       "    <tr>\n",
       "      <th>7414</th>\n",
       "      <td>PBS_TTTGTGGCAGGACCAA-1</td>\n",
       "      <td>NG13</td>\n",
       "    </tr>\n",
       "    <tr>\n",
       "      <th>7415</th>\n",
       "      <td>PBS_TTTGTGTTCCTAGTTT-1</td>\n",
       "      <td>NG13</td>\n",
       "    </tr>\n",
       "    <tr>\n",
       "      <th>7416</th>\n",
       "      <td>PBS_TTTGTGTTCTGTTGCC-1</td>\n",
       "      <td>JG6</td>\n",
       "    </tr>\n",
       "    <tr>\n",
       "      <th>7417</th>\n",
       "      <td>PBS_TTTGTTGGTTAGCATG-1</td>\n",
       "      <td>JG1</td>\n",
       "    </tr>\n",
       "  </tbody>\n",
       "</table>\n",
       "<p>7418 rows × 2 columns</p>\n",
       "</div>"
      ],
      "text/plain": [
       "                     Barcode Cluster\n",
       "0      NT_AAACAGCCAGTTTCTC-1     NG4\n",
       "1      NT_AAACGGATCAATAGCC-1     JG6\n",
       "2      NT_AAACGGATCCTAATGA-1     JG1\n",
       "3      NT_AAACGTACAAAGCCTC-1     NG5\n",
       "4      NT_AAACGTACATGTGGGA-1     JG1\n",
       "...                      ...     ...\n",
       "7413  PBS_TTTGTGGCAATAAGCA-1     JG4\n",
       "7414  PBS_TTTGTGGCAGGACCAA-1    NG13\n",
       "7415  PBS_TTTGTGTTCCTAGTTT-1    NG13\n",
       "7416  PBS_TTTGTGTTCTGTTGCC-1     JG6\n",
       "7417  PBS_TTTGTTGGTTAGCATG-1     JG1\n",
       "\n",
       "[7418 rows x 2 columns]"
      ]
     },
     "execution_count": 18,
     "metadata": {},
     "output_type": "execute_result"
    }
   ],
   "source": [
    "# Now, build the mapping by reordering the rows of barcode_subtype_mapping_df to match the order of printer.obs_names\n",
    "\n",
    "# Reorder the dataframe rows according to printer.obs_names:\n",
    "ordered_df = barcode_subtype_mapping_df.set_index('Barcode').loc[printer.obs_names].reset_index()\n",
    "\n",
    "ordered_df\n"
   ]
  },
  {
   "cell_type": "code",
   "execution_count": 19,
   "metadata": {},
   "outputs": [
    {
     "name": "stdout",
     "output_type": "stream",
     "text": [
      "7418\n"
     ]
    }
   ],
   "source": [
    "# Extract the Barcode column as a list:\n",
    "ordered_barcodes = ordered_df['Barcode'].tolist()\n",
    "\n",
    "print(len(ordered_barcodes))"
   ]
  },
  {
   "cell_type": "code",
   "execution_count": 20,
   "metadata": {},
   "outputs": [],
   "source": [
    "# Sanity check for identical order of both ordered_barcodes and printer.obs_names\n",
    "printer_obs_names_l = printer.obs_names\n",
    "\n",
    "assert ordered_barcodes == printer_obs_names_l, \"The order of barcodes does not match the order in printer.obs_names\""
   ]
  },
  {
   "cell_type": "code",
   "execution_count": 21,
   "metadata": {},
   "outputs": [],
   "source": [
    "# Finally, get the list of subtypes\n",
    "ordered_subtypes = ordered_df['Cluster'].tolist()"
   ]
  },
  {
   "cell_type": "code",
   "execution_count": 22,
   "metadata": {},
   "outputs": [
    {
     "name": "stdout",
     "output_type": "stream",
     "text": [
      "['NG4', 'JG6', 'JG1', 'NG5', 'JG1', 'NG11', 'NG19', 'NG25', 'NG11', 'NG9']\n",
      "7418\n"
     ]
    }
   ],
   "source": [
    "print(ordered_subtypes[:10])\n",
    "print(len(ordered_subtypes))"
   ]
  },
  {
   "cell_type": "markdown",
   "metadata": {},
   "source": [
    "### 2.3 Add subtype as column of ```printer``` object metadata"
   ]
  },
  {
   "cell_type": "code",
   "execution_count": 23,
   "metadata": {},
   "outputs": [],
   "source": [
    "printer.obs['predicted_cluster'] = ordered_subtypes"
   ]
  },
  {
   "cell_type": "markdown",
   "metadata": {},
   "source": [
    "## Close object"
   ]
  },
  {
   "cell_type": "code",
   "execution_count": 24,
   "metadata": {},
   "outputs": [],
   "source": [
    "printer.close()"
   ]
  },
  {
   "cell_type": "markdown",
   "metadata": {},
   "source": [
    "# END"
   ]
  }
 ],
 "metadata": {
  "kernelspec": {
   "display_name": "scprinter",
   "language": "python",
   "name": "python3"
  },
  "language_info": {
   "codemirror_mode": {
    "name": "ipython",
    "version": 3
   },
   "file_extension": ".py",
   "mimetype": "text/x-python",
   "name": "python",
   "nbconvert_exporter": "python",
   "pygments_lexer": "ipython3",
   "version": "3.11.11"
  }
 },
 "nbformat": 4,
 "nbformat_minor": 2
}
