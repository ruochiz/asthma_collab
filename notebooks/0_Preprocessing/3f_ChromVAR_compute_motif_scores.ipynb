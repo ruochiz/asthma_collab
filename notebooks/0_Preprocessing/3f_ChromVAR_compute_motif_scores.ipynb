{
 "cells": [
  {
   "cell_type": "markdown",
   "metadata": {},
   "source": [
    "# Run ChromVAR with ```scprinter```"
   ]
  },
  {
   "cell_type": "markdown",
   "metadata": {},
   "source": [
    "## 0. Imports"
   ]
  },
  {
   "cell_type": "code",
   "execution_count": 1,
   "metadata": {},
   "outputs": [],
   "source": [
    "%load_ext autoreload\n",
    "%autoreload 2\n",
    "import scprinter as scp\n",
    "import pandas as pd\n",
    "import seaborn as sns\n",
    "import matplotlib.pyplot as plt\n",
    "import time\n",
    "import pandas as pd\n",
    "import numpy as np\n",
    "import os\n",
    "import pickle\n",
    "import torch\n",
    "import matplotlib as mpl\n",
    "mpl.rcParams['pdf.fonttype'] = 42\n",
    "from scanpy.plotting.palettes import zeileis_28\n",
    "from tqdm.contrib.concurrent import *\n",
    "from tqdm.auto import *\n",
    "import anndata\n",
    "import scanpy as sc\n",
    "import statistics as stat\n",
    "import json\n",
    "import csv\n",
    "import re\n",
    "import copy\n",
    "from sklearn.preprocessing import OneHotEncoder"
   ]
  },
  {
   "cell_type": "code",
   "execution_count": 2,
   "metadata": {},
   "outputs": [],
   "source": [
    "import snapatac2 as snap"
   ]
  },
  {
   "cell_type": "code",
   "execution_count": 3,
   "metadata": {},
   "outputs": [
    {
     "data": {
      "text/plain": [
       "'1.0.0a'"
      ]
     },
     "execution_count": 3,
     "metadata": {},
     "output_type": "execute_result"
    }
   ],
   "source": [
    "scp.__version__"
   ]
  },
  {
   "cell_type": "markdown",
   "metadata": {},
   "source": [
    "### 0.1 Setup"
   ]
  },
  {
   "cell_type": "code",
   "execution_count": 4,
   "metadata": {},
   "outputs": [
    {
     "data": {
      "text/plain": [
       "<scprinter.genome.Genome at 0x7fed2c3c3ad0>"
      ]
     },
     "execution_count": 4,
     "metadata": {},
     "output_type": "execute_result"
    }
   ],
   "source": [
    "# Specify the reference genome. This must match that of your ATAC fragments file\n",
    "genome = scp.genome.mm10\n",
    "\n",
    "genome"
   ]
  },
  {
   "cell_type": "markdown",
   "metadata": {},
   "source": [
    "Define objective"
   ]
  },
  {
   "cell_type": "code",
   "execution_count": 5,
   "metadata": {},
   "outputs": [],
   "source": [
    "chromVAR_or_seq2PRINT = 'chromvar'"
   ]
  },
  {
   "cell_type": "markdown",
   "metadata": {},
   "source": [
    "## 1. Paths"
   ]
  },
  {
   "cell_type": "markdown",
   "metadata": {},
   "source": [
    "### 1.1 Data directories"
   ]
  },
  {
   "cell_type": "code",
   "execution_count": 6,
   "metadata": {},
   "outputs": [],
   "source": [
    "master_data_dir = '/bap/bap/collab_asthma_multiome/'"
   ]
  },
  {
   "cell_type": "markdown",
   "metadata": {},
   "source": [
    "TODO: paths are messy you should clean this up soon"
   ]
  },
  {
   "cell_type": "code",
   "execution_count": 7,
   "metadata": {},
   "outputs": [],
   "source": [
    "# outputs\n",
    "printer_h5ad_output_dir = os.path.join(master_data_dir, 'ATAC', '2_Analysis_Outputs', '1b_ChromVAR_scPrinter_object')\n",
    "scprinter_obj_path = os.path.join(printer_h5ad_output_dir, 'Asthma_Multiome_Collab_scPrinter.h5ad')\n",
    "peak_path = os.path.join(master_data_dir, 'ATAC', '2_Analysis_Outputs', '1c_chromvar_scPrinter_MACS_peaks', 'chromVAR_preset_Asthma_Multiome_scPrinter_cleaned_merged_narrowPeak.bed')\n",
    "\n",
    "output_dir = os.path.join(master_data_dir, 'ATAC', '2_Analysis_Outputs', f'1d_{chromVAR_or_seq2PRINT}_Outputs')\n",
    "\n",
    "# if the output directory does not exist, create it\n",
    "if not os.path.exists(output_dir):\n",
    "    os.makedirs(output_dir)"
   ]
  },
  {
   "cell_type": "code",
   "execution_count": 8,
   "metadata": {},
   "outputs": [
    {
     "data": {
      "text/plain": [
       "'/bap/bap/collab_asthma_multiome/ATAC/2_Analysis_Outputs/1d_chromvar_Outputs'"
      ]
     },
     "execution_count": 8,
     "metadata": {},
     "output_type": "execute_result"
    }
   ],
   "source": [
    "output_dir"
   ]
  },
  {
   "cell_type": "markdown",
   "metadata": {},
   "source": [
    "## 2. ```scPrinter``` analysis"
   ]
  },
  {
   "cell_type": "markdown",
   "metadata": {},
   "source": [
    "### 2.1 Load the scPrinter object\n",
    "\n",
    "When you finish using the object, run ```printer.close()``` otherwise you won't be able to load it properly next time."
   ]
  },
  {
   "cell_type": "code",
   "execution_count": 9,
   "metadata": {},
   "outputs": [],
   "source": [
    "printer = scp.load_printer(scprinter_obj_path, genome)"
   ]
  },
  {
   "cell_type": "code",
   "execution_count": 10,
   "metadata": {},
   "outputs": [
    {
     "name": "stdout",
     "output_type": "stream",
     "text": [
      "head project\n",
      "AnnData object with n_obs x n_vars = 7418 x 0 backed at '/bap/bap/collab_asthma_multiome/ATAC/2_Analysis_Outputs/1b_ChromVAR_scPrinter_object/Asthma_Multiome_Collab_scPrinter.h5ad'\n",
      "    obs: 'sample', 'n_fragment', 'frac_dup', 'frac_mito', 'frag_path', 'frag_sample_name', 'tsse', 'predicted_cluster'\n",
      "    uns: 'bias_bw', 'bias_path', 'binding score', 'gff_db', 'reference_sequences', 'insertion', 'peak_calling', 'unique_string', 'footprints', 'genome'\n",
      "    obsm: 'insertion_chr14', 'insertion_chr16', 'insertion_chrY', 'insertion_chr1', 'insertion_chr6', 'insertion_chr15', 'insertion_chr12', 'insertion_chr4', 'insertion_chr8', 'insertion_chr7', 'insertion_chr13', 'insertion_chr3', 'insertion_chr11', 'insertion_chr10', 'insertion_chr18', 'insertion_chrX', 'insertion_chr19', 'insertion_chr17', 'insertion_chr5', 'insertion_chr9', 'insertion_chr2'\n"
     ]
    },
    {
     "data": {
      "text/plain": []
     },
     "execution_count": 10,
     "metadata": {},
     "output_type": "execute_result"
    }
   ],
   "source": [
    "printer"
   ]
  },
  {
   "cell_type": "markdown",
   "metadata": {},
   "source": [
    "### 2.2 Get peak-by-cell count matrix"
   ]
  },
  {
   "cell_type": "code",
   "execution_count": 11,
   "metadata": {},
   "outputs": [
    {
     "name": "stdout",
     "output_type": "stream",
     "text": [
      "Loading insertion profiles\n"
     ]
    },
    {
     "data": {
      "application/vnd.jupyter.widget-view+json": {
       "model_id": "fa1f315e654544d982d25d4e205a090e",
       "version_major": 2,
       "version_minor": 0
      },
      "text/plain": [
       "Making peak matrix:   0%|          | 0/370848 [00:00<?, ?it/s]"
      ]
     },
     "metadata": {},
     "output_type": "display_data"
    }
   ],
   "source": [
    "# First construct a peak-by-cell matrix of ATAC counts\n",
    "adata = scp.pp.make_peak_matrix(printer,\n",
    "                       regions=peak_path,\n",
    "                       region_width=300,\n",
    "                       cell_grouping=None,\n",
    "                       group_names=None,\n",
    "                       sparse=True)"
   ]
  },
  {
   "cell_type": "code",
   "execution_count": 12,
   "metadata": {},
   "outputs": [],
   "source": [
    "adata.write(f'{output_dir}/cell_peak.h5ad')\n",
    "\n"
   ]
  },
  {
   "cell_type": "markdown",
   "metadata": {},
   "source": [
    "## 3. Calculate chromVAR motif sores"
   ]
  },
  {
   "cell_type": "code",
   "execution_count": 13,
   "metadata": {},
   "outputs": [
    {
     "data": {
      "text/plain": [
       "View of AnnData object with n_obs × n_vars = 7418 × 370848"
      ]
     },
     "execution_count": 13,
     "metadata": {},
     "output_type": "execute_result"
    }
   ],
   "source": [
    "# Only keep peaks with > 0 coverage\n",
    "adata = anndata.read_h5ad(f'{output_dir}/cell_peak.h5ad')\n",
    "coverage = adata.X.sum(axis=0)\n",
    "adata = adata[:, coverage > 0]\n",
    "\n",
    "adata"
   ]
  },
  {
   "cell_type": "markdown",
   "metadata": {},
   "source": [
    "Before running the below code, make sure you check which GPUs are available (use the nvtop command in terminal)."
   ]
  },
  {
   "cell_type": "code",
   "execution_count": 14,
   "metadata": {},
   "outputs": [],
   "source": [
    "# We can calculate chromVAR motif scores using either GPU (device = \"cuda\", much faster) or CPU (device = \"cpu\", slower)\n",
    "device = \"cuda\"\n",
    "\n",
    "if device == \"cuda\":\n",
    "    import warnings\n",
    "    warnings.filterwarnings(\"ignore\")\n",
    "    import scanpy as sc\n",
    "    import anndata\n",
    "    import cupy as cp\n",
    "    import cupyx as cpx\n",
    "    import time\n",
    "    import rmm\n",
    "    from rmm.allocators.cupy import rmm_cupy_allocator\n",
    "    rmm.reinitialize(\n",
    "        managed_memory=True, # Allows oversubscription\n",
    "        pool_allocator=True, # default is False\n",
    "        devices=1, # GPU device IDs to register. By default registers only GPU 0.\n",
    "    )\n",
    "    cp.cuda.set_allocator(rmm_cupy_allocator)"
   ]
  },
  {
   "cell_type": "code",
   "execution_count": 15,
   "metadata": {},
   "outputs": [
    {
     "data": {
      "application/vnd.jupyter.widget-view+json": {
       "model_id": "9cc52367ce204f25a01e230843c427a2",
       "version_major": 2,
       "version_minor": 0
      },
      "text/plain": [
       "Fetching GC content:   0%|          | 0/370848 [00:00<?, ?it/s]"
      ]
     },
     "metadata": {},
     "output_type": "display_data"
    },
    {
     "name": "stdout",
     "output_type": "stream",
     "text": [
      "Sampling nearest neighbors\n",
      "NNDescent (2500, 2)\n"
     ]
    },
    {
     "data": {
      "application/vnd.jupyter.widget-view+json": {
       "model_id": "f5840e076f4a474b940cfdbb42d396d2",
       "version_major": 2,
       "version_minor": 0
      },
      "text/plain": [
       "Sampling background peaks:   0%|          | 0/2500 [00:00<?, ?it/s]"
      ]
     },
     "metadata": {},
     "output_type": "display_data"
    },
    {
     "data": {
      "text/plain": [
       "array([[357297, 228870,  77812, ..., 121568, 259832, 178674],\n",
       "       [ 80562,  77593, 213698, ..., 158649,  24883, 335991],\n",
       "       [ 27500, 160648, 355589, ..., 288352,  46076, 191749],\n",
       "       ...,\n",
       "       [194190,  71307, 147671, ..., 115542, 295490, 214375],\n",
       "       [347670, 357115, 277522, ...,  89195,  50265, 106244],\n",
       "       [363925,   1265, 324463, ..., 192177, 368372,   6300]])"
      ]
     },
     "execution_count": 15,
     "metadata": {},
     "output_type": "execute_result"
    }
   ],
   "source": [
    "# Sample background peaks for each peak\n",
    "scp.chromvar.sample_bg_peaks(adata,\n",
    "                             genome=genome,\n",
    "                             method='chromvar',\n",
    "                             niterations=250)"
   ]
  },
  {
   "cell_type": "code",
   "execution_count": 16,
   "metadata": {},
   "outputs": [
    {
     "data": {
      "application/vnd.jupyter.widget-view+json": {
       "model_id": "8aa770b7a387475f90ec4a5a3c50ce8f",
       "version_major": 2,
       "version_minor": 0
      },
      "text/plain": [
       "  0%|          | 0/741696 [00:00<?, ?it/s]"
      ]
     },
     "metadata": {},
     "output_type": "display_data"
    }
   ],
   "source": [
    "# Scan motifs\n",
    "motif = scp.motifs.FigR_Mouse_Motifs(genome,\n",
    "                                     bg=list(adata.uns['bg_freq']),\n",
    "                                     n_jobs=100,\n",
    "                                     pvalue=5e-5, mode='motifmatchr')\n",
    "\n",
    "motif.prep_scanner(None, pvalue=5e-5)\n",
    "motif.chromvar_scan(adata)"
   ]
  },
  {
   "cell_type": "code",
   "execution_count": 17,
   "metadata": {},
   "outputs": [
    {
     "name": "stdout",
     "output_type": "stream",
     "text": [
      "Computing expectation reads per cell and peak...\n"
     ]
    },
    {
     "data": {
      "application/vnd.jupyter.widget-view+json": {
       "model_id": "0b4b1506ec764d5ea8b6a34deb257ec4",
       "version_major": 2,
       "version_minor": 0
      },
      "text/plain": [
       "Processing chunks:   0%|          | 0/1 [00:00<?, ?it/s]"
      ]
     },
     "metadata": {},
     "output_type": "display_data"
    },
    {
     "data": {
      "application/vnd.jupyter.widget-view+json": {
       "model_id": "bc95448e93d74d689552aa8f354cc1a9",
       "version_major": 2,
       "version_minor": 0
      },
      "text/plain": [
       "Processing background peaks:   0%|          | 0/250 [00:00<?, ?it/s]"
      ]
     },
     "metadata": {},
     "output_type": "display_data"
    }
   ],
   "source": [
    "# Compute motif scores for single cells\n",
    "chromvar = scp.chromvar.compute_deviations(adata, chunk_size=50000, device=device)"
   ]
  },
  {
   "cell_type": "code",
   "execution_count": 18,
   "metadata": {},
   "outputs": [
    {
     "data": {
      "text/plain": [
       "AnnData object with n_obs × n_vars = 7418 × 890"
      ]
     },
     "execution_count": 18,
     "metadata": {},
     "output_type": "execute_result"
    }
   ],
   "source": [
    "chromvar"
   ]
  },
  {
   "cell_type": "code",
   "execution_count": 19,
   "metadata": {},
   "outputs": [],
   "source": [
    "# Save for later use\n",
    "chromvar.write(f'{output_dir}/chromvar_FigR.h5ad')"
   ]
  },
  {
   "cell_type": "markdown",
   "metadata": {},
   "source": [
    "## Close object"
   ]
  },
  {
   "cell_type": "code",
   "execution_count": 20,
   "metadata": {},
   "outputs": [],
   "source": [
    "printer.close()"
   ]
  },
  {
   "cell_type": "markdown",
   "metadata": {},
   "source": [
    "# END"
   ]
  }
 ],
 "metadata": {
  "kernelspec": {
   "display_name": "scprinter",
   "language": "python",
   "name": "python3"
  },
  "language_info": {
   "codemirror_mode": {
    "name": "ipython",
    "version": 3
   },
   "file_extension": ".py",
   "mimetype": "text/x-python",
   "name": "python",
   "nbconvert_exporter": "python",
   "pygments_lexer": "ipython3",
   "version": "3.11.11"
  }
 },
 "nbformat": 4,
 "nbformat_minor": 2
}
