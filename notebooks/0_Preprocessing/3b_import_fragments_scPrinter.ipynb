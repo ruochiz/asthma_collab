{
 "cells": [
  {
   "cell_type": "markdown",
   "metadata": {},
   "source": [
    "# Import fragments with ```scPrinter```\n",
    "\n",
    "- Function to use: [scprinter.pp.import_fragments](https://ruochiz.com/scprinter_doc/reference/_autosummary/scprinter.pp.import_fragments.html#scprinter.pp.import_fragments)\n",
    "- Tutorial to follow: [scPrinter PBMC scATAC-seq tutorial](https://ruochiz.com/scprinter_doc/tutorials/PBMC_scATAC_tutorial.html#Now-let's-use-scPrinter-for-some-basic-exploratory-analysis-to-get-a-better-idea-of-the-dataset)"
   ]
  },
  {
   "cell_type": "markdown",
   "metadata": {},
   "source": [
    "## 0. Imports"
   ]
  },
  {
   "cell_type": "code",
   "execution_count": 1,
   "metadata": {},
   "outputs": [],
   "source": [
    "%load_ext autoreload\n",
    "%autoreload 2\n",
    "import scprinter as scp\n",
    "import pandas as pd\n",
    "import seaborn as sns\n",
    "import matplotlib.pyplot as plt\n",
    "import time\n",
    "import pandas as pd\n",
    "import numpy as np\n",
    "import os\n",
    "import pickle\n",
    "import torch\n",
    "import matplotlib as mpl\n",
    "mpl.rcParams['pdf.fonttype'] = 42\n",
    "from scanpy.plotting.palettes import zeileis_28\n",
    "from tqdm.contrib.concurrent import *\n",
    "from tqdm.auto import *\n",
    "import anndata\n",
    "import scanpy as sc\n",
    "import statistics as stat\n",
    "import json\n",
    "import csv\n",
    "import re\n",
    "import copy\n",
    "from sklearn.preprocessing import OneHotEncoder"
   ]
  },
  {
   "cell_type": "code",
   "execution_count": 2,
   "metadata": {},
   "outputs": [],
   "source": [
    "import snapatac2 as snap"
   ]
  },
  {
   "cell_type": "markdown",
   "metadata": {},
   "source": [
    "### 0.1 Setup"
   ]
  },
  {
   "cell_type": "code",
   "execution_count": 3,
   "metadata": {},
   "outputs": [
    {
     "data": {
      "text/plain": [
       "<scprinter.genome.Genome at 0x7f6dffd34450>"
      ]
     },
     "execution_count": 3,
     "metadata": {},
     "output_type": "execute_result"
    }
   ],
   "source": [
    "# Specify the reference genome. This must match that of your ATAC fragments file\n",
    "genome = scp.genome.mm10\n",
    "\n",
    "genome"
   ]
  },
  {
   "cell_type": "markdown",
   "metadata": {},
   "source": [
    "## 1. Paths"
   ]
  },
  {
   "cell_type": "markdown",
   "metadata": {},
   "source": [
    "### 1.1 Data directories"
   ]
  },
  {
   "cell_type": "code",
   "execution_count": 4,
   "metadata": {},
   "outputs": [],
   "source": [
    "master_data_dir = '/bap/bap/collab_asthma_multiome/'"
   ]
  },
  {
   "cell_type": "code",
   "execution_count": 5,
   "metadata": {},
   "outputs": [],
   "source": [
    "# Create small lambda function to get the path to the data, input variable being sample name\n",
    "get_condition_fragments_path = lambda sample_name_bc, sample_name_frag: os.path.join(master_data_dir, 'ATAC', 'ATACFragmentFiles_Asthma', sample_name_bc, f'{sample_name_frag}_atac_fragments.tsv.gz')\n",
    "get_condition_valid_barcodes_path = lambda sample_name: os.path.join(master_data_dir, 'outputs', 'ATAC', '2_Analysis_Outputs', '1a_ChromVAR_Inputs', f'{sample_name}_valid_barcodes.txt')"
   ]
  },
  {
   "cell_type": "code",
   "execution_count": 6,
   "metadata": {},
   "outputs": [],
   "source": [
    "# outputs\n",
    "printer_h5ad_output_dir = os.path.join(master_data_dir, 'ATAC', '2_Analysis_Outputs', '1b_ChromVAR_scPrinter_object')\n",
    "printer_h5ad_output_path = os.path.join(printer_h5ad_output_dir, 'Asthma_Multiome_Collab_scPrinter.h5ad')\n",
    "\n",
    "# if the output directory does not exist, create it\n",
    "if not os.path.exists(printer_h5ad_output_dir):\n",
    "    os.makedirs(printer_h5ad_output_dir)"
   ]
  },
  {
   "cell_type": "markdown",
   "metadata": {},
   "source": [
    "### 1.2 Prep paths"
   ]
  },
  {
   "cell_type": "code",
   "execution_count": 7,
   "metadata": {},
   "outputs": [],
   "source": [
    "# Sample names\n",
    "sample_names_bc = ['NT',\n",
    "                'OVA_C',\n",
    "                'OVA',\n",
    "                'PBS_C',\n",
    "                'PBS'\n",
    "                ]\n",
    "\n",
    "# on-disk fragments files are named slightly differently\n",
    "sample_names_load_fragments = ['NT',\n",
    "                                'OVAC',\n",
    "                                'OVA',\n",
    "                                'PBSC',\n",
    "                                'PBS'\n",
    "                                ]"
   ]
  },
  {
   "cell_type": "code",
   "execution_count": 8,
   "metadata": {},
   "outputs": [],
   "source": [
    "# to per-condition fragments\n",
    "\n",
    "fragment_paths_l = []\n",
    "valid_barcodes_l = []   # order-matched to fragment_paths_l\n",
    "for sample_name_fragments_i, sample_name_bc_i in zip(sample_names_load_fragments, sample_names_bc):\n",
    "    fragment_paths_l.append(get_condition_fragments_path(sample_name_bc_i, sample_name_fragments_i))\n",
    "    valid_barcodes_l.append(get_condition_valid_barcodes_path(sample_name_bc_i))"
   ]
  },
  {
   "cell_type": "code",
   "execution_count": 9,
   "metadata": {},
   "outputs": [
    {
     "data": {
      "text/plain": [
       "['/bap/bap/collab_asthma_multiome/ATAC/ATACFragmentFiles_Asthma/NT/NT_atac_fragments.tsv.gz',\n",
       " '/bap/bap/collab_asthma_multiome/ATAC/ATACFragmentFiles_Asthma/OVA_C/OVAC_atac_fragments.tsv.gz',\n",
       " '/bap/bap/collab_asthma_multiome/ATAC/ATACFragmentFiles_Asthma/OVA/OVA_atac_fragments.tsv.gz',\n",
       " '/bap/bap/collab_asthma_multiome/ATAC/ATACFragmentFiles_Asthma/PBS_C/PBSC_atac_fragments.tsv.gz',\n",
       " '/bap/bap/collab_asthma_multiome/ATAC/ATACFragmentFiles_Asthma/PBS/PBS_atac_fragments.tsv.gz']"
      ]
     },
     "execution_count": 9,
     "metadata": {},
     "output_type": "execute_result"
    }
   ],
   "source": [
    "fragment_paths_l"
   ]
  },
  {
   "cell_type": "code",
   "execution_count": 10,
   "metadata": {},
   "outputs": [
    {
     "data": {
      "text/plain": [
       "['/bap/bap/collab_asthma_multiome/outputs/ATAC/2_Analysis_Outputs/1a_ChromVAR_Inputs/NT_valid_barcodes.txt',\n",
       " '/bap/bap/collab_asthma_multiome/outputs/ATAC/2_Analysis_Outputs/1a_ChromVAR_Inputs/OVA_C_valid_barcodes.txt',\n",
       " '/bap/bap/collab_asthma_multiome/outputs/ATAC/2_Analysis_Outputs/1a_ChromVAR_Inputs/OVA_valid_barcodes.txt',\n",
       " '/bap/bap/collab_asthma_multiome/outputs/ATAC/2_Analysis_Outputs/1a_ChromVAR_Inputs/PBS_C_valid_barcodes.txt',\n",
       " '/bap/bap/collab_asthma_multiome/outputs/ATAC/2_Analysis_Outputs/1a_ChromVAR_Inputs/PBS_valid_barcodes.txt']"
      ]
     },
     "execution_count": 10,
     "metadata": {},
     "output_type": "execute_result"
    }
   ],
   "source": [
    "valid_barcodes_l"
   ]
  },
  {
   "cell_type": "code",
   "execution_count": 11,
   "metadata": {},
   "outputs": [],
   "source": [
    "# TODO: you'll likely need txt files of barcodes:subtype pairings per condition too,\n",
    "# when you do the manual t-test later and need to group barcodes by subtype"
   ]
  },
  {
   "cell_type": "markdown",
   "metadata": {},
   "source": [
    "## 2. ```scPrinter``` analysis"
   ]
  },
  {
   "cell_type": "markdown",
   "metadata": {},
   "source": [
    "### 2.1 Initialize the scPrinter object\n",
    "\n",
    "When you finish using the object, run ```printer.close()``` otherwise you won't be able to load it properly next time."
   ]
  },
  {
   "cell_type": "markdown",
   "metadata": {},
   "source": [
    "**Note Feb 24, 2025:** the QC filters of ```import_fragments()```\n",
    "\n",
    "```min_num_fragments=1000, min_tsse=7```\n",
    "\n",
    "may have lowered # pass QC cells from 7797 to 7747\n",
    "\n",
    "From source code, ```min_tsse``` is no longer used\n",
    "\n",
    "```# these are historical_kwargs that snapatac2 takes, but not anymore\n",
    "    for historical_kwarg in [\"min_tsse\", \"low_memory\"]:\n",
    "        if historical_kwarg in kwargs:\n",
    "            del kwargs[historical_kwarg]\n",
    "```\n",
    "\n",
    "For QC consistency, we will not re-filter on # fragments because we have already QC'd in the R notebook. This should produce a ```printer``` object with the same # cells (7797) as the barcode preparation notebook."
   ]
  },
  {
   "cell_type": "code",
   "execution_count": 12,
   "metadata": {},
   "outputs": [
    {
     "name": "stdout",
     "output_type": "stream",
     "text": [
      "You are now using the beta auto_detect_shift function, this overwrites the plus_shift and minus_shift you provided\n",
      "If you believe the auto_detect_shift is wrong, please set auto_detect_shift=False\n"
     ]
    },
    {
     "data": {
      "application/vnd.jupyter.widget-view+json": {
       "model_id": "030e72bd8d464c43aae56ec5cf272e7c",
       "version_major": 2,
       "version_minor": 0
      },
      "text/plain": [
       "Importing fragments:   0%|          | 0/5 [00:00<?, ?it/s]"
      ]
     },
     "metadata": {},
     "output_type": "display_data"
    },
    {
     "name": "stdout",
     "output_type": "stream",
     "text": [
      "Detecting the shift in the paired end fragments file\n",
      "If you think the above message is wrong, please check the input file format\n",
      "Minimum MSE is 0.00039826999809825463, shift detected\n",
      "Minimum MSE is 0.0003485204024557461, shift detected\n",
      "detected plus_shift and minus_shift are 4 -5 for /bap/bap/collab_asthma_multiome/ATAC/ATACFragmentFiles_Asthma/NT/NT_atac_fragments.tsv.gz\n",
      "Detecting the shift in the paired end fragments file\n",
      "If you think the above message is wrong, please check the input file format\n",
      "Minimum MSE is 0.0004886510066651824, shift detected\n",
      "Minimum MSE is 0.000523652283791898, shift detected\n",
      "detected plus_shift and minus_shift are 4 -5 for /bap/bap/collab_asthma_multiome/ATAC/ATACFragmentFiles_Asthma/OVA_C/OVAC_atac_fragments.tsv.gz\n",
      "Detecting the shift in the paired end fragments file\n",
      "If you think the above message is wrong, please check the input file format\n",
      "Minimum MSE is 0.0003478629785362107, shift detected\n",
      "Minimum MSE is 0.00030655893975362373, shift detected\n",
      "detected plus_shift and minus_shift are 4 -5 for /bap/bap/collab_asthma_multiome/ATAC/ATACFragmentFiles_Asthma/OVA/OVA_atac_fragments.tsv.gz\n",
      "Detecting the shift in the paired end fragments file\n",
      "If you think the above message is wrong, please check the input file format\n",
      "Minimum MSE is 0.0003908906276964486, shift detected\n",
      "Minimum MSE is 0.00040152446341882203, shift detected\n",
      "detected plus_shift and minus_shift are 4 -5 for /bap/bap/collab_asthma_multiome/ATAC/ATACFragmentFiles_Asthma/PBS_C/PBSC_atac_fragments.tsv.gz\n",
      "Detecting the shift in the paired end fragments file\n",
      "If you think the above message is wrong, please check the input file format\n",
      "Minimum MSE is 0.0003646501205582838, shift detected\n",
      "Minimum MSE is 0.00037126035551287087, shift detected\n",
      "detected plus_shift and minus_shift are 4 -5 for /bap/bap/collab_asthma_multiome/ATAC/ATACFragmentFiles_Asthma/PBS/PBS_atac_fragments.tsv.gz\n"
     ]
    },
    {
     "data": {
      "application/vnd.jupyter.widget-view+json": {
       "model_id": "22b5bff4a41a4edaa38f76d936902ee3",
       "version_major": 2,
       "version_minor": 0
      },
      "text/plain": [
       "  0%|          | 0/5 [00:00<?, ?it/s]"
      ]
     },
     "metadata": {},
     "output_type": "display_data"
    },
    {
     "name": "stdout",
     "output_type": "stream",
     "text": [
      "start transferring insertions\n",
      "Time taken to import fragments: 792.0684185028076 seconds\n"
     ]
    }
   ],
   "source": [
    "import time\n",
    "start = time.time()\n",
    "\n",
    "# TODO: use lists of frag paths and lists of prepared pass-QC barcode txt files\n",
    "printer = scp.pp.import_fragments(\n",
    "                            path_to_frags=fragment_paths_l,\n",
    "                            barcodes=valid_barcodes_l,\n",
    "                            savename=printer_h5ad_output_path,\n",
    "                            sample_names=sample_names_bc,\n",
    "                            genome=genome,\n",
    "                            min_num_fragments=0, min_tsse=7,\n",
    "                            sorted_by_barcode=False,\n",
    "                            low_memory=False,\n",
    "                            )\n",
    "\n",
    "end = time.time()\n",
    "\n",
    "print(f\"Time taken to import fragments: {end - start} seconds\")"
   ]
  },
  {
   "cell_type": "code",
   "execution_count": 13,
   "metadata": {},
   "outputs": [
    {
     "name": "stdout",
     "output_type": "stream",
     "text": [
      "head project\n",
      "AnnData object with n_obs x n_vars = 7418 x 0 backed at '/bap/bap/collab_asthma_multiome/ATAC/2_Analysis_Outputs/1b_ChromVAR_scPrinter_object/Asthma_Multiome_Collab_scPrinter.h5ad'\n",
      "    obs: 'sample', 'n_fragment', 'frac_dup', 'frac_mito', 'frag_path', 'frag_sample_name', 'tsse'\n",
      "    uns: 'unique_string', 'reference_sequences', 'bias_bw', 'footprints', 'genome', 'insertion', 'gff_db', 'bias_path', 'binding score'\n",
      "    obsm: 'insertion_chr7', 'insertion_chr3', 'insertion_chr4', 'insertion_chr9', 'insertion_chr2', 'insertion_chr11', 'insertion_chr8', 'insertion_chr13', 'insertion_chrX', 'insertion_chr1', 'insertion_chr14', 'insertion_chr17', 'insertion_chrY', 'insertion_chr10', 'insertion_chr16', 'insertion_chr15', 'insertion_chr6', 'insertion_chr18', 'insertion_chr5', 'insertion_chr19', 'insertion_chr12'\n"
     ]
    },
    {
     "data": {
      "text/plain": []
     },
     "execution_count": 13,
     "metadata": {},
     "output_type": "execute_result"
    }
   ],
   "source": [
    "printer"
   ]
  },
  {
   "cell_type": "markdown",
   "metadata": {},
   "source": [
    "**Always, always remember to close the object!**"
   ]
  },
  {
   "cell_type": "code",
   "execution_count": 14,
   "metadata": {},
   "outputs": [],
   "source": [
    "printer.close()"
   ]
  },
  {
   "cell_type": "code",
   "execution_count": 15,
   "metadata": {},
   "outputs": [
    {
     "data": {
      "text/plain": [
       "'/bap/bap/collab_asthma_multiome/ATAC/2_Analysis_Outputs/1b_ChromVAR_scPrinter_object/Asthma_Multiome_Collab_scPrinter.h5ad'"
      ]
     },
     "execution_count": 15,
     "metadata": {},
     "output_type": "execute_result"
    }
   ],
   "source": [
    "printer_h5ad_output_path"
   ]
  },
  {
   "cell_type": "markdown",
   "metadata": {},
   "source": [
    "# END"
   ]
  }
 ],
 "metadata": {
  "kernelspec": {
   "display_name": "scprinter",
   "language": "python",
   "name": "python3"
  },
  "language_info": {
   "codemirror_mode": {
    "name": "ipython",
    "version": 3
   },
   "file_extension": ".py",
   "mimetype": "text/x-python",
   "name": "python",
   "nbconvert_exporter": "python",
   "pygments_lexer": "ipython3",
   "version": "3.11.11"
  }
 },
 "nbformat": 4,
 "nbformat_minor": 2
}
