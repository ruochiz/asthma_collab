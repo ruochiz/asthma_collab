{
 "cells": [
  {
   "cell_type": "markdown",
   "metadata": {},
   "source": [
    "# Get pass-QC barcodes for later chromVAR analysis"
   ]
  },
  {
   "cell_type": "markdown",
   "metadata": {},
   "source": [
    "## 0. Imports"
   ]
  },
  {
   "cell_type": "code",
   "execution_count": null,
   "metadata": {
    "vscode": {
     "languageId": "r"
    }
   },
   "outputs": [],
   "source": [
    "library(Signac)\n",
    "library(Seurat)\n",
    "library(JASPAR2020)\n",
    "library(TFBSTools)\n",
    "library(BSgenome.Mmusculus.UCSC.mm10)\n",
    "library(patchwork)"
   ]
  },
  {
   "cell_type": "markdown",
   "metadata": {},
   "source": [
    "## 1. Paths"
   ]
  },
  {
   "cell_type": "code",
   "execution_count": null,
   "metadata": {
    "vscode": {
     "languageId": "r"
    }
   },
   "outputs": [],
   "source": [
    "master_data_dir = '/bap/bap/collab_asthma_multiome/'\n",
    "preprocessing_dir <- file.path(master_data_dir, \"outputs\", \"ATAC\", \"1_Combined_Preprocessing_Outputs\")"
   ]
  },
  {
   "cell_type": "code",
   "execution_count": null,
   "metadata": {
    "vscode": {
     "languageId": "r"
    }
   },
   "outputs": [],
   "source": [
    "output_dir <- file.path(master_data_dir, \"outputs\", \"ATAC\", \"2_Analysis_Outputs\", \"1a_ChromVAR_Inputs\")\n",
    "\n",
    "if (!dir.exists(output_dir)) {\n",
    "  dir.create(output_dir, recursive = TRUE)\n",
    "}"
   ]
  },
  {
   "cell_type": "code",
   "execution_count": null,
   "metadata": {
    "vscode": {
     "languageId": "r"
    }
   },
   "outputs": [],
   "source": [
    "output_dir"
   ]
  },
  {
   "cell_type": "markdown",
   "metadata": {},
   "source": [
    "## 2. Load object"
   ]
  },
  {
   "cell_type": "code",
   "execution_count": null,
   "metadata": {
    "vscode": {
     "languageId": "r"
    }
   },
   "outputs": [],
   "source": [
    "multiome.combined.neurons <- readRDS(file.path(preprocessing_dir, \"Asthma_Multiome_Combined_NeuronsOnly_Filtered.rds\"))\n",
    "multiome.combined.neurons"
   ]
  },
  {
   "cell_type": "markdown",
   "metadata": {},
   "source": [
    "## 3. Get valid barcodes"
   ]
  },
  {
   "cell_type": "markdown",
   "metadata": {},
   "source": [
    "### 3.1 Create another metadata column for label+condition"
   ]
  },
  {
   "cell_type": "code",
   "execution_count": null,
   "metadata": {
    "vscode": {
     "languageId": "r"
    }
   },
   "outputs": [],
   "source": [
    "multiome.combined.neurons@meta.data"
   ]
  },
  {
   "cell_type": "code",
   "execution_count": null,
   "metadata": {
    "vscode": {
     "languageId": "r"
    }
   },
   "outputs": [],
   "source": [
    "# Add metadata column to join predicted cluster with condition name\n",
    "multiome.combined.neurons@meta.data$predicted.cluster.condition <- paste(multiome.combined.neurons@meta.data$predicted.predicted_clusters, multiome.combined.neurons@meta.data$condition, sep = \"_\")"
   ]
  },
  {
   "cell_type": "code",
   "execution_count": null,
   "metadata": {
    "vscode": {
     "languageId": "r"
    }
   },
   "outputs": [],
   "source": [
    "unique(multiome.combined.neurons@meta.data$predicted.cluster.condition)"
   ]
  },
  {
   "cell_type": "markdown",
   "metadata": {},
   "source": [
    "### 3.2 Extract valid barcodes per condition"
   ]
  },
  {
   "cell_type": "code",
   "execution_count": null,
   "metadata": {
    "vscode": {
     "languageId": "r"
    }
   },
   "outputs": [],
   "source": [
    "head(Idents(multiome.combined.neurons))"
   ]
  },
  {
   "cell_type": "code",
   "execution_count": null,
   "metadata": {
    "vscode": {
     "languageId": "r"
    }
   },
   "outputs": [],
   "source": [
    "extract_valid_barcodes <- function(seurat_obj, sample_condition, sample_name, output_path) {\n",
    "  # Subset the Seurat object based on the provided condition\n",
    "  sample_subset <- subset(seurat_obj, subset = condition == sample_condition)\n",
    "  \n",
    "  # Extract the valid barcodes from the row names (do not modify the object)\n",
    "  valid_barcodes <- rownames(sample_subset@meta.data)\n",
    "  \n",
    "  # Strip the sample prefix by splitting at \"_\" and taking the last element.\n",
    "  # For example, \"PBS_C_TTTGTTGGTCAAAGGG-1\" becomes \"TTTGTTGGTCAAAGGG-1\"\n",
    "  valid_barcodes_stripped <- sapply(strsplit(valid_barcodes, \"_\"), function(x) tail(x, n = 1))\n",
    "  \n",
    "  # Construct the output file path: <sample_name>_valid_barcodes.txt\n",
    "  out_file <- file.path(output_path, paste0(sample_name, \"_valid_barcodes.txt\"))\n",
    "  \n",
    "  # Write the transformed valid barcodes to the text file without quotes, row names, or column names\n",
    "  write.table(valid_barcodes_stripped, \n",
    "              file = out_file, \n",
    "              quote = FALSE, \n",
    "              row.names = FALSE, \n",
    "              col.names = FALSE)\n",
    "  \n",
    "  # Optionally, return the subsetted object\n",
    "  return(sample_subset)\n",
    "}"
   ]
  },
  {
   "cell_type": "code",
   "execution_count": null,
   "metadata": {
    "vscode": {
     "languageId": "r"
    }
   },
   "outputs": [],
   "source": [
    "# -------------------\n",
    "# Sample 1: NT\n",
    "# -------------------\n",
    "multiome.combined.neurons.NT <- extract_valid_barcodes(multiome.combined.neurons, \n",
    "                                                         sample_condition = \"NT\", \n",
    "                                                         sample_name = \"NT\", \n",
    "                                                         output_path = output_dir)\n",
    "\n",
    "# -------------------\n",
    "# Sample 2: PBS\n",
    "# -------------------\n",
    "multiome.combined.neurons.PBS <- extract_valid_barcodes(multiome.combined.neurons, \n",
    "                                                          sample_condition = \"PBS\", \n",
    "                                                          sample_name = \"PBS\", \n",
    "                                                          output_path = output_dir)\n",
    "\n",
    "# -------------------\n",
    "# Sample 3: OVA\n",
    "# -------------------\n",
    "multiome.combined.neurons.OVA <- extract_valid_barcodes(multiome.combined.neurons, \n",
    "                                                          sample_condition = \"OVA\", \n",
    "                                                          sample_name = \"OVA\", \n",
    "                                                          output_path = output_dir)\n",
    "\n",
    "# -------------------\n",
    "# Sample 4: PBS_Chase\n",
    "# -------------------\n",
    "multiome.combined.neurons.PBS_Chase <- extract_valid_barcodes(multiome.combined.neurons, \n",
    "                                                                sample_condition = \"PBS_C\", \n",
    "                                                                sample_name = \"PBS_C\", \n",
    "                                                                output_path = output_dir)\n",
    "\n",
    "# -------------------\n",
    "# Sample 5: OVA_Chase\n",
    "# -------------------\n",
    "multiome.combined.neurons.OVA_Chase <- extract_valid_barcodes(multiome.combined.neurons, \n",
    "                                                                sample_condition = \"OVA_C\", \n",
    "                                                                sample_name = \"OVA_C\", \n",
    "                                                                output_path = output_dir)"
   ]
  },
  {
   "cell_type": "code",
   "execution_count": null,
   "metadata": {
    "vscode": {
     "languageId": "r"
    }
   },
   "outputs": [],
   "source": [
    "# print each object\n",
    "print(multiome.combined.neurons.NT)\n",
    "print(multiome.combined.neurons.OVA_Chase)\n",
    "print(multiome.combined.neurons.OVA)\n",
    "print(multiome.combined.neurons.PBS_Chase)\n",
    "print(multiome.combined.neurons.PBS)\n"
   ]
  },
  {
   "cell_type": "code",
   "execution_count": null,
   "metadata": {
    "vscode": {
     "languageId": "r"
    }
   },
   "outputs": [],
   "source": [
    "print(\"Done\")"
   ]
  },
  {
   "cell_type": "markdown",
   "metadata": {},
   "source": [
    "# END"
   ]
  }
 ],
 "metadata": {
  "kernelspec": {
   "display_name": "R",
   "language": "R",
   "name": "ir"
  },
  "language_info": {
   "codemirror_mode": "r",
   "file_extension": ".r",
   "mimetype": "text/x-r-source",
   "name": "R",
   "pygments_lexer": "r",
   "version": "4.3.3"
  }
 },
 "nbformat": 4,
 "nbformat_minor": 2
}
